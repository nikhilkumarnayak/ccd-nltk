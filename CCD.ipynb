{
  "cells": [
    {
      "cell_type": "markdown",
      "metadata": {
        "id": "ZsiRBBuho9j2"
      },
      "source": [
        "# Problem Statement :- CCD\n",
        "\n",
        "Create a model which can extract quantity and item name from any sentence\n",
        "\n",
        "Like “ i want 1 cappuccino and 2 flat white from CCD”\n",
        "\n",
        "Here item:quantity = 1:cappuccino and 2: flat white \n",
        "Store name = CCD\n",
        "\n",
        "We can train the menu of Café Coffee Day from ccdonline.in. This model should autocorrect item name too e.g capucino = cappuccino "
      ]
    },
    {
      "cell_type": "code",
      "execution_count": null,
      "metadata": {
        "id": "LnwxaNaPo9j8",
        "outputId": "5b48f8d6-64c8-4053-e7f0-73f655077aef"
      },
      "outputs": [
        {
          "name": "stdout",
          "output_type": "stream",
          "text": [
            "Requirement already satisfied: nltk in /Users/apple/Documents/LearnBay/sw_installed/anaconda3/lib/python3.7/site-packages (3.4.5)\n",
            "Requirement already satisfied: six in /Users/apple/Documents/LearnBay/sw_installed/anaconda3/lib/python3.7/site-packages (from nltk) (1.12.0)\n"
          ]
        }
      ],
      "source": [
        "### Install the NLTK\n",
        "!pip install nltk"
      ]
    },
    {
      "cell_type": "code",
      "execution_count": null,
      "metadata": {
        "id": "nAfBBndNo9j9",
        "outputId": "c1c25024-8ad5-436c-d1ec-db9341262b68"
      },
      "outputs": [
        {
          "name": "stderr",
          "output_type": "stream",
          "text": [
            "[nltk_data] Downloading package maxent_ne_chunker to\n",
            "[nltk_data]     /Users/apple/nltk_data...\n",
            "[nltk_data]   Package maxent_ne_chunker is already up-to-date!\n",
            "[nltk_data] Downloading package words to /Users/apple/nltk_data...\n",
            "[nltk_data]   Package words is already up-to-date!\n"
          ]
        }
      ],
      "source": [
        "## import packages\n",
        "import nltk\n",
        "from nltk.tokenize import word_tokenize\n",
        "from nltk.tag import pos_tag\n",
        "from nltk.chunk import ne_chunk\n",
        "nltk.download('maxent_ne_chunker')\n",
        "nltk.download('words')\n",
        "from nltk.corpus import words\n",
        "from nltk.metrics.distance import jaccard_distance\n",
        "from nltk.util import ngrams\n",
        "from nltk.metrics.distance  import edit_distance\n",
        "from nltk import Tree"
      ]
    },
    {
      "cell_type": "code",
      "execution_count": null,
      "metadata": {
        "id": "Zlg7Cx6no9j-"
      },
      "outputs": [],
      "source": [
        "sentence = 'i want 1 capucino and 2 flat white from CCD'"
      ]
    },
    {
      "cell_type": "code",
      "execution_count": null,
      "metadata": {
        "id": "ohrDkV_do9j_",
        "outputId": "4e55e834-4a75-4f68-83d0-ca1e68a5b7f7"
      },
      "outputs": [
        {
          "name": "stdout",
          "output_type": "stream",
          "text": [
            "(S\n",
            "  i/NN\n",
            "  want/VBP\n",
            "  1/CD\n",
            "  capucino/NN\n",
            "  and/CC\n",
            "  2/CD\n",
            "  flat/JJ\n",
            "  white/JJ\n",
            "  from/IN\n",
            "  (ORGANIZATION CCD/NN))\n"
          ]
        }
      ],
      "source": [
        "## Checking details of POS\n",
        "ne_tree = ne_chunk(pos_tag(word_tokenize(sentence)))\n",
        "print(ne_tree)"
      ]
    },
    {
      "cell_type": "code",
      "execution_count": null,
      "metadata": {
        "id": "U1Rr_mX1o9j_"
      },
      "outputs": [],
      "source": [
        " ## Work Tokenizing and Pos   \n",
        "def preprocess(sent):\n",
        "    sent = nltk.word_tokenize(sent)\n",
        "    sent = nltk.pos_tag(sent)\n",
        "    return sent"
      ]
    },
    {
      "cell_type": "code",
      "execution_count": null,
      "metadata": {
        "id": "18LEzmjIo9kA",
        "outputId": "ff1d35a5-e5cd-41b9-cc00-3a87544ddeee"
      },
      "outputs": [
        {
          "data": {
            "text/plain": [
              "[('i', 'NN'),\n",
              " ('want', 'VBP'),\n",
              " ('1', 'CD'),\n",
              " ('capucino', 'NN'),\n",
              " ('and', 'CC'),\n",
              " ('2', 'CD'),\n",
              " ('flat', 'JJ'),\n",
              " ('white', 'JJ'),\n",
              " ('from', 'IN'),\n",
              " ('CCD', 'NN')]"
            ]
          },
          "execution_count": 7,
          "metadata": {},
          "output_type": "execute_result"
        }
      ],
      "source": [
        "sent = preprocess(sentence)\n",
        "sent"
      ]
    },
    {
      "cell_type": "code",
      "execution_count": null,
      "metadata": {
        "id": "CGkqBELvo9kB"
      },
      "outputs": [],
      "source": [
        "pattern = 'NP: {<CD><JJ>*<NN>*}'"
      ]
    },
    {
      "cell_type": "code",
      "execution_count": null,
      "metadata": {
        "id": "3-Pj2MOzo9kB",
        "outputId": "c44327f1-4c70-4acf-e6e3-57f3ab2251ed"
      },
      "outputs": [
        {
          "name": "stdout",
          "output_type": "stream",
          "text": [
            "(S\n",
            "  i/NN\n",
            "  want/VBP\n",
            "  (NP 1/CD capucino/NN)\n",
            "  and/CC\n",
            "  (NP 2/CD flat/JJ white/JJ)\n",
            "  from/IN\n",
            "  CCD/NN) <class 'nltk.tree.Tree'>\n"
          ]
        }
      ],
      "source": [
        "# parse with regex pattern\n",
        "cp = nltk.RegexpParser(pattern)\n",
        "cs = cp.parse(sent)\n",
        "print(cs,type(cs))"
      ]
    },
    {
      "cell_type": "code",
      "execution_count": null,
      "metadata": {
        "id": "Vd3vfWiko9kC",
        "outputId": "01d4a644-0767-4d0b-d99f-4a6c5501672a"
      },
      "outputs": [
        {
          "data": {
            "text/plain": [
              "[('i', 'NN'),\n",
              " ('want', 'VBP'),\n",
              " Tree('NP', [('1', 'CD'), ('capucino', 'NN')]),\n",
              " ('and', 'CC'),\n",
              " Tree('NP', [('2', 'CD'), ('flat', 'JJ'), ('white', 'JJ')]),\n",
              " ('from', 'IN'),\n",
              " ('CCD', 'NN')]"
            ]
          },
          "execution_count": 10,
          "metadata": {},
          "output_type": "execute_result"
        }
      ],
      "source": [
        "list(cs)"
      ]
    },
    {
      "cell_type": "code",
      "execution_count": null,
      "metadata": {
        "id": "XgrVBTcDo9kD",
        "outputId": "8efda2dd-9680-4fa6-fabd-e393eb5f7756"
      },
      "outputs": [
        {
          "name": "stdout",
          "output_type": "stream",
          "text": [
            "<class 'tuple'>\n",
            "<class 'tuple'>\n",
            "<class 'nltk.tree.Tree'>\n",
            "<class 'tuple'>\n",
            "<class 'nltk.tree.Tree'>\n",
            "<class 'tuple'>\n",
            "<class 'tuple'>\n"
          ]
        }
      ],
      "source": [
        "for i in list(cs):\n",
        "    print(type(i))"
      ]
    },
    {
      "cell_type": "code",
      "execution_count": null,
      "metadata": {
        "id": "1Mh6GvzMo9kD"
      },
      "outputs": [],
      "source": [
        "all_item = []\n",
        "store_name = []\n",
        "for i in list(cs):\n",
        "    if type(i) == Tree:\n",
        "        all_item.append(i)\n",
        "    else:\n",
        "        store_name.append(i)"
      ]
    },
    {
      "cell_type": "code",
      "execution_count": null,
      "metadata": {
        "id": "NAlO-lcRo9kE",
        "outputId": "80c89e67-df9a-43c6-e13a-a66218fed98d"
      },
      "outputs": [
        {
          "data": {
            "text/plain": [
              "[Tree('NP', [('1', 'CD'), ('capucino', 'NN')]),\n",
              " Tree('NP', [('2', 'CD'), ('flat', 'JJ'), ('white', 'JJ')])]"
            ]
          },
          "execution_count": 13,
          "metadata": {},
          "output_type": "execute_result"
        }
      ],
      "source": [
        "all_item"
      ]
    },
    {
      "cell_type": "code",
      "execution_count": null,
      "metadata": {
        "id": "D8a_Z9feo9kE",
        "outputId": "392c7a03-6d87-4a89-e9c6-7e1e34239c04"
      },
      "outputs": [
        {
          "data": {
            "text/plain": [
              "'CCD'"
            ]
          },
          "execution_count": 14,
          "metadata": {},
          "output_type": "execute_result"
        }
      ],
      "source": [
        "store_name[-1][0]"
      ]
    },
    {
      "cell_type": "code",
      "execution_count": null,
      "metadata": {
        "id": "gzR_mB0So9kF",
        "outputId": "a8c3f090-c33d-4bad-8bbb-f0b2a2b8b666"
      },
      "outputs": [
        {
          "name": "stdout",
          "output_type": "stream",
          "text": [
            "[' 1 capucino', ' 2 flat white']\n"
          ]
        }
      ],
      "source": [
        "all_items_cln = []\n",
        "for i in all_item:\n",
        "    tmp = \"\"\n",
        "    for j in list(i):\n",
        "        tmp = tmp + \" \" + j[0]\n",
        "    all_items_cln.append(tmp)\n",
        "print(all_items_cln)"
      ]
    },
    {
      "cell_type": "code",
      "execution_count": null,
      "metadata": {
        "id": "9XVT5cj4o9kF",
        "outputId": "73b8fed4-caa8-423f-ad0a-eb9e9ad492dd"
      },
      "outputs": [
        {
          "name": "stdout",
          "output_type": "stream",
          "text": [
            "{'Store name': 'CCD', 'Item': 'cappuccino', 'Quantity': '1'}\n",
            "{'Store name': 'CCD', 'Item': 'flat white', 'Quantity': '2'}\n"
          ]
        }
      ],
      "source": [
        "#smaple list of beverage from ccdonline.in\n",
        "correct_spellings = [\"cappuccino\",\"flat white\",\"regular cappuccino\",\"frappes\",\"darjeeling tea\",\"dark chocolate\"]\n",
        "\n",
        "#this section will correct the beverage name\n",
        "def correct_item_name(item_list):\n",
        "    for i in range(len(item_list)):\n",
        "        entries= [item_list[1]]\n",
        "        for entry in entries:\n",
        "            temp = [(edit_distance(entry, w),w) for w in correct_spellings if w[0]==entry[0]]\n",
        "            #store the correct beverage as variable\n",
        "            corr_item_name = (sorted(temp, key = lambda val:val[0])[0][1])\n",
        "        entries = corr_item_name\n",
        "        return entries\n",
        "\n",
        "store_qty_item = []\n",
        "nested_dict_list ={}\n",
        "nested_dict_list['Store name'] = {}\n",
        "nested_dict_list['Store name'] = store_name[-1][0].upper()\n",
        "for i in all_items_cln:\n",
        "    item_list = i.lstrip().split(' ',1)\n",
        "    item_list[1] = correct_item_name(item_list)\n",
        "    nested_dict_list['Item'] = item_list[1]\n",
        "    nested_dict_list['Quantity'] = item_list[0]\n",
        "    print(nested_dict_list )   "
      ]
    },
    {
      "cell_type": "code",
      "execution_count": null,
      "metadata": {
        "id": "SpS3fWHIo9kG"
      },
      "outputs": [],
      "source": [
        ""
      ]
    },
    {
      "cell_type": "code",
      "execution_count": null,
      "metadata": {
        "id": "HQkHsIT7o9kG"
      },
      "outputs": [],
      "source": [
        ""
      ]
    }
  ],
  "metadata": {
    "kernelspec": {
      "display_name": "Python 3",
      "language": "python",
      "name": "python3"
    },
    "language_info": {
      "codemirror_mode": {
        "name": "ipython",
        "version": 3
      },
      "file_extension": ".py",
      "mimetype": "text/x-python",
      "name": "python",
      "nbconvert_exporter": "python",
      "pygments_lexer": "ipython3",
      "version": "3.7.4"
    },
    "colab": {
      "name": "Assignment_CCD (1).ipynb",
      "provenance": []
    }
  },
  "nbformat": 4,
  "nbformat_minor": 0
}